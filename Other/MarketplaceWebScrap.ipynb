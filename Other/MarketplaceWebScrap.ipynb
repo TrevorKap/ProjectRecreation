{
 "cells": [
  {
   "cell_type": "code",
   "execution_count": null,
   "id": "1d73dc3b-6f4f-4fbb-9344-ec1a52a641d1",
   "metadata": {
    "tags": []
   },
   "outputs": [
    {
     "data": {
      "application/javascript": "(function(root) {\n  function now() {\n    return new Date();\n  }\n\n  var force = true;\n  var py_version = '3.2.1'.replace('rc', '-rc.').replace('.dev', '-dev.');\n  var is_dev = py_version.indexOf(\"+\") !== -1 || py_version.indexOf(\"-\") !== -1;\n  var reloading = false;\n  var Bokeh = root.Bokeh;\n  var bokeh_loaded = Bokeh != null && (Bokeh.version === py_version || (Bokeh.versions !== undefined && Bokeh.versions.has(py_version)));\n\n  if (typeof (root._bokeh_timeout) === \"undefined\" || force) {\n    root._bokeh_timeout = Date.now() + 5000;\n    root._bokeh_failed_load = false;\n  }\n\n  function run_callbacks() {\n    try {\n      root._bokeh_onload_callbacks.forEach(function(callback) {\n        if (callback != null)\n          callback();\n      });\n    } finally {\n      delete root._bokeh_onload_callbacks;\n    }\n    console.debug(\"Bokeh: all callbacks have finished\");\n  }\n\n  function load_libs(css_urls, js_urls, js_modules, js_exports, callback) {\n    if (css_urls == null) css_urls = [];\n    if (js_urls == null) js_urls = [];\n    if (js_modules == null) js_modules = [];\n    if (js_exports == null) js_exports = {};\n\n    root._bokeh_onload_callbacks.push(callback);\n\n    if (root._bokeh_is_loading > 0) {\n      console.debug(\"Bokeh: BokehJS is being loaded, scheduling callback at\", now());\n      return null;\n    }\n    if (js_urls.length === 0 && js_modules.length === 0 && Object.keys(js_exports).length === 0) {\n      run_callbacks();\n      return null;\n    }\n    if (!reloading) {\n      console.debug(\"Bokeh: BokehJS not loaded, scheduling load and callback at\", now());\n    }\n\n    function on_load() {\n      root._bokeh_is_loading--;\n      if (root._bokeh_is_loading === 0) {\n        console.debug(\"Bokeh: all BokehJS libraries/stylesheets loaded\");\n        run_callbacks()\n      }\n    }\n    window._bokeh_on_load = on_load\n\n    function on_error() {\n      console.error(\"failed to load \" + url);\n    }\n\n    var skip = [];\n    if (window.requirejs) {\n      window.requirejs.config({'packages': {}, 'paths': {'jspanel': 'https://cdn.jsdelivr.net/npm/jspanel4@4.12.0/dist/jspanel', 'jspanel-modal': 'https://cdn.jsdelivr.net/npm/jspanel4@4.12.0/dist/extensions/modal/jspanel.modal', 'jspanel-tooltip': 'https://cdn.jsdelivr.net/npm/jspanel4@4.12.0/dist/extensions/tooltip/jspanel.tooltip', 'jspanel-hint': 'https://cdn.jsdelivr.net/npm/jspanel4@4.12.0/dist/extensions/hint/jspanel.hint', 'jspanel-layout': 'https://cdn.jsdelivr.net/npm/jspanel4@4.12.0/dist/extensions/layout/jspanel.layout', 'jspanel-contextmenu': 'https://cdn.jsdelivr.net/npm/jspanel4@4.12.0/dist/extensions/contextmenu/jspanel.contextmenu', 'jspanel-dock': 'https://cdn.jsdelivr.net/npm/jspanel4@4.12.0/dist/extensions/dock/jspanel.dock', 'gridstack': 'https://cdn.jsdelivr.net/npm/gridstack@7.2.3/dist/gridstack-all', 'notyf': 'https://cdn.jsdelivr.net/npm/notyf@3/notyf.min'}, 'shim': {'jspanel': {'exports': 'jsPanel'}, 'gridstack': {'exports': 'GridStack'}}});\n      require([\"jspanel\"], function(jsPanel) {\n\twindow.jsPanel = jsPanel\n\ton_load()\n      })\n      require([\"jspanel-modal\"], function() {\n\ton_load()\n      })\n      require([\"jspanel-tooltip\"], function() {\n\ton_load()\n      })\n      require([\"jspanel-hint\"], function() {\n\ton_load()\n      })\n      require([\"jspanel-layout\"], function() {\n\ton_load()\n      })\n      require([\"jspanel-contextmenu\"], function() {\n\ton_load()\n      })\n      require([\"jspanel-dock\"], function() {\n\ton_load()\n      })\n      require([\"gridstack\"], function(GridStack) {\n\twindow.GridStack = GridStack\n\ton_load()\n      })\n      require([\"notyf\"], function() {\n\ton_load()\n      })\n      root._bokeh_is_loading = css_urls.length + 9;\n    } else {\n      root._bokeh_is_loading = css_urls.length + js_urls.length + js_modules.length + Object.keys(js_exports).length;\n    }\n\n    var existing_stylesheets = []\n    var links = document.getElementsByTagName('link')\n    for (var i = 0; i < links.length; i++) {\n      var link = links[i]\n      if (link.href != null) {\n\texisting_stylesheets.push(link.href)\n      }\n    }\n    for (var i = 0; i < css_urls.length; i++) {\n      var url = css_urls[i];\n      if (existing_stylesheets.indexOf(url) !== -1) {\n\ton_load()\n\tcontinue;\n      }\n      const element = document.createElement(\"link\");\n      element.onload = on_load;\n      element.onerror = on_error;\n      element.rel = \"stylesheet\";\n      element.type = \"text/css\";\n      element.href = url;\n      console.debug(\"Bokeh: injecting link tag for BokehJS stylesheet: \", url);\n      document.body.appendChild(element);\n    }    if (((window['jsPanel'] !== undefined) && (!(window['jsPanel'] instanceof HTMLElement))) || window.requirejs) {\n      var urls = ['https://cdn.holoviz.org/panel/1.2.1/dist/bundled/floatpanel/jspanel4@4.12.0/dist/jspanel.js', 'https://cdn.holoviz.org/panel/1.2.1/dist/bundled/floatpanel/jspanel4@4.12.0/dist/extensions/modal/jspanel.modal.js', 'https://cdn.holoviz.org/panel/1.2.1/dist/bundled/floatpanel/jspanel4@4.12.0/dist/extensions/tooltip/jspanel.tooltip.js', 'https://cdn.holoviz.org/panel/1.2.1/dist/bundled/floatpanel/jspanel4@4.12.0/dist/extensions/hint/jspanel.hint.js', 'https://cdn.holoviz.org/panel/1.2.1/dist/bundled/floatpanel/jspanel4@4.12.0/dist/extensions/layout/jspanel.layout.js', 'https://cdn.holoviz.org/panel/1.2.1/dist/bundled/floatpanel/jspanel4@4.12.0/dist/extensions/contextmenu/jspanel.contextmenu.js', 'https://cdn.holoviz.org/panel/1.2.1/dist/bundled/floatpanel/jspanel4@4.12.0/dist/extensions/dock/jspanel.dock.js'];\n      for (var i = 0; i < urls.length; i++) {\n        skip.push(urls[i])\n      }\n    }    if (((window['GridStack'] !== undefined) && (!(window['GridStack'] instanceof HTMLElement))) || window.requirejs) {\n      var urls = ['https://cdn.holoviz.org/panel/1.2.1/dist/bundled/gridstack/gridstack@7.2.3/dist/gridstack-all.js'];\n      for (var i = 0; i < urls.length; i++) {\n        skip.push(urls[i])\n      }\n    }    if (((window['Notyf'] !== undefined) && (!(window['Notyf'] instanceof HTMLElement))) || window.requirejs) {\n      var urls = ['https://cdn.holoviz.org/panel/1.2.1/dist/bundled/notificationarea/notyf@3/notyf.min.js'];\n      for (var i = 0; i < urls.length; i++) {\n        skip.push(urls[i])\n      }\n    }    var existing_scripts = []\n    var scripts = document.getElementsByTagName('script')\n    for (var i = 0; i < scripts.length; i++) {\n      var script = scripts[i]\n      if (script.src != null) {\n\texisting_scripts.push(script.src)\n      }\n    }\n    for (var i = 0; i < js_urls.length; i++) {\n      var url = js_urls[i];\n      if (skip.indexOf(url) !== -1 || existing_scripts.indexOf(url) !== -1) {\n\tif (!window.requirejs) {\n\t  on_load();\n\t}\n\tcontinue;\n      }\n      var element = document.createElement('script');\n      element.onload = on_load;\n      element.onerror = on_error;\n      element.async = false;\n      element.src = url;\n      console.debug(\"Bokeh: injecting script tag for BokehJS library: \", url);\n      document.head.appendChild(element);\n    }\n    for (var i = 0; i < js_modules.length; i++) {\n      var url = js_modules[i];\n      if (skip.indexOf(url) !== -1 || existing_scripts.indexOf(url) !== -1) {\n\tif (!window.requirejs) {\n\t  on_load();\n\t}\n\tcontinue;\n      }\n      var element = document.createElement('script');\n      element.onload = on_load;\n      element.onerror = on_error;\n      element.async = false;\n      element.src = url;\n      element.type = \"module\";\n      console.debug(\"Bokeh: injecting script tag for BokehJS library: \", url);\n      document.head.appendChild(element);\n    }\n    for (const name in js_exports) {\n      var url = js_exports[name];\n      if (skip.indexOf(url) >= 0 || root[name] != null) {\n\tif (!window.requirejs) {\n\t  on_load();\n\t}\n\tcontinue;\n      }\n      var element = document.createElement('script');\n      element.onerror = on_error;\n      element.async = false;\n      element.type = \"module\";\n      console.debug(\"Bokeh: injecting script tag for BokehJS library: \", url);\n      element.textContent = `\n      import ${name} from \"${url}\"\n      window.${name} = ${name}\n      window._bokeh_on_load()\n      `\n      document.head.appendChild(element);\n    }\n    if (!js_urls.length && !js_modules.length) {\n      on_load()\n    }\n  };\n\n  function inject_raw_css(css) {\n    const element = document.createElement(\"style\");\n    element.appendChild(document.createTextNode(css));\n    document.body.appendChild(element);\n  }\n\n  var js_urls = [\"https://cdn.bokeh.org/bokeh/release/bokeh-3.2.1.min.js\", \"https://cdn.bokeh.org/bokeh/release/bokeh-gl-3.2.1.min.js\", \"https://cdn.bokeh.org/bokeh/release/bokeh-widgets-3.2.1.min.js\", \"https://cdn.bokeh.org/bokeh/release/bokeh-tables-3.2.1.min.js\", \"https://cdn.holoviz.org/panel/1.2.1/dist/panel.min.js\"];\n  var js_modules = [];\n  var js_exports = {};\n  var css_urls = [];\n  var inline_js = [    function(Bokeh) {\n      Bokeh.set_log_level(\"info\");\n    },\nfunction(Bokeh) {} // ensure no trailing comma for IE\n  ];\n\n  function run_inline_js() {\n    if ((root.Bokeh !== undefined) || (force === true)) {\n      for (var i = 0; i < inline_js.length; i++) {\n        inline_js[i].call(root, root.Bokeh);\n      }\n      // Cache old bokeh versions\n      if (Bokeh != undefined && !reloading) {\n\tvar NewBokeh = root.Bokeh;\n\tif (Bokeh.versions === undefined) {\n\t  Bokeh.versions = new Map();\n\t}\n\tif (NewBokeh.version !== Bokeh.version) {\n\t  Bokeh.versions.set(NewBokeh.version, NewBokeh)\n\t}\n\troot.Bokeh = Bokeh;\n      }} else if (Date.now() < root._bokeh_timeout) {\n      setTimeout(run_inline_js, 100);\n    } else if (!root._bokeh_failed_load) {\n      console.log(\"Bokeh: BokehJS failed to load within specified timeout.\");\n      root._bokeh_failed_load = true;\n    }\n    root._bokeh_is_initializing = false\n  }\n\n  function load_or_wait() {\n    // Implement a backoff loop that tries to ensure we do not load multiple\n    // versions of Bokeh and its dependencies at the same time.\n    // In recent versions we use the root._bokeh_is_initializing flag\n    // to determine whether there is an ongoing attempt to initialize\n    // bokeh, however for backward compatibility we also try to ensure\n    // that we do not start loading a newer (Panel>=1.0 and Bokeh>3) version\n    // before older versions are fully initialized.\n    if (root._bokeh_is_initializing && Date.now() > root._bokeh_timeout) {\n      root._bokeh_is_initializing = false;\n      root._bokeh_onload_callbacks = undefined;\n      console.log(\"Bokeh: BokehJS was loaded multiple times but one version failed to initialize.\");\n      load_or_wait();\n    } else if (root._bokeh_is_initializing || (typeof root._bokeh_is_initializing === \"undefined\" && root._bokeh_onload_callbacks !== undefined)) {\n      setTimeout(load_or_wait, 100);\n    } else {\n      Bokeh = root.Bokeh;\n      bokeh_loaded = Bokeh != null && (Bokeh.version === py_version || (Bokeh.versions !== undefined && Bokeh.versions.has(py_version)));\n      root._bokeh_is_initializing = true\n      root._bokeh_onload_callbacks = []\n      if (!reloading && (!bokeh_loaded || is_dev)) {\n\troot.Bokeh = undefined;\n      }\n      load_libs(css_urls, js_urls, js_modules, js_exports, function() {\n\tconsole.debug(\"Bokeh: BokehJS plotting callback run at\", now());\n\trun_inline_js();\n      });\n    }\n  }\n  // Give older versions of the autoload script a head-start to ensure\n  // they initialize before we start loading newer version.\n  setTimeout(load_or_wait, 100)\n}(window));",
      "application/vnd.holoviews_load.v0+json": ""
     },
     "metadata": {},
     "output_type": "display_data"
    },
    {
     "data": {
      "application/javascript": "\nif ((window.PyViz === undefined) || (window.PyViz instanceof HTMLElement)) {\n  window.PyViz = {comms: {}, comm_status:{}, kernels:{}, receivers: {}, plot_index: []}\n}\n\n\n    function JupyterCommManager() {\n    }\n\n    JupyterCommManager.prototype.register_target = function(plot_id, comm_id, msg_handler) {\n      if (window.comm_manager || ((window.Jupyter !== undefined) && (Jupyter.notebook.kernel != null))) {\n        var comm_manager = window.comm_manager || Jupyter.notebook.kernel.comm_manager;\n        comm_manager.register_target(comm_id, function(comm) {\n          comm.on_msg(msg_handler);\n        });\n      } else if ((plot_id in window.PyViz.kernels) && (window.PyViz.kernels[plot_id])) {\n        window.PyViz.kernels[plot_id].registerCommTarget(comm_id, function(comm) {\n          comm.onMsg = msg_handler;\n        });\n      } else if (typeof google != 'undefined' && google.colab.kernel != null) {\n        google.colab.kernel.comms.registerTarget(comm_id, (comm) => {\n          var messages = comm.messages[Symbol.asyncIterator]();\n          function processIteratorResult(result) {\n            var message = result.value;\n            console.log(message)\n            var content = {data: message.data, comm_id};\n            var buffers = []\n            for (var buffer of message.buffers || []) {\n              buffers.push(new DataView(buffer))\n            }\n            var metadata = message.metadata || {};\n            var msg = {content, buffers, metadata}\n            msg_handler(msg);\n            return messages.next().then(processIteratorResult);\n          }\n          return messages.next().then(processIteratorResult);\n        })\n      }\n    }\n\n    JupyterCommManager.prototype.get_client_comm = function(plot_id, comm_id, msg_handler) {\n      if (comm_id in window.PyViz.comms) {\n        return window.PyViz.comms[comm_id];\n      } else if (window.comm_manager || ((window.Jupyter !== undefined) && (Jupyter.notebook.kernel != null))) {\n        var comm_manager = window.comm_manager || Jupyter.notebook.kernel.comm_manager;\n        var comm = comm_manager.new_comm(comm_id, {}, {}, {}, comm_id);\n        if (msg_handler) {\n          comm.on_msg(msg_handler);\n        }\n      } else if ((plot_id in window.PyViz.kernels) && (window.PyViz.kernels[plot_id])) {\n        var comm = window.PyViz.kernels[plot_id].connectToComm(comm_id);\n        comm.open();\n        if (msg_handler) {\n          comm.onMsg = msg_handler;\n        }\n      } else if (typeof google != 'undefined' && google.colab.kernel != null) {\n        var comm_promise = google.colab.kernel.comms.open(comm_id)\n        comm_promise.then((comm) => {\n          window.PyViz.comms[comm_id] = comm;\n          if (msg_handler) {\n            var messages = comm.messages[Symbol.asyncIterator]();\n            function processIteratorResult(result) {\n              var message = result.value;\n              var content = {data: message.data};\n              var metadata = message.metadata || {comm_id};\n              var msg = {content, metadata}\n              msg_handler(msg);\n              return messages.next().then(processIteratorResult);\n            }\n            return messages.next().then(processIteratorResult);\n          }\n        }) \n        var sendClosure = (data, metadata, buffers, disposeOnDone) => {\n          return comm_promise.then((comm) => {\n            comm.send(data, metadata, buffers, disposeOnDone);\n          });\n        };\n        var comm = {\n          send: sendClosure\n        };\n      }\n      window.PyViz.comms[comm_id] = comm;\n      return comm;\n    }\n    window.PyViz.comm_manager = new JupyterCommManager();\n    \n\n\nvar JS_MIME_TYPE = 'application/javascript';\nvar HTML_MIME_TYPE = 'text/html';\nvar EXEC_MIME_TYPE = 'application/vnd.holoviews_exec.v0+json';\nvar CLASS_NAME = 'output';\n\n/**\n * Render data to the DOM node\n */\nfunction render(props, node) {\n  var div = document.createElement(\"div\");\n  var script = document.createElement(\"script\");\n  node.appendChild(div);\n  node.appendChild(script);\n}\n\n/**\n * Handle when a new output is added\n */\nfunction handle_add_output(event, handle) {\n  var output_area = handle.output_area;\n  var output = handle.output;\n  if ((output.data == undefined) || (!output.data.hasOwnProperty(EXEC_MIME_TYPE))) {\n    return\n  }\n  var id = output.metadata[EXEC_MIME_TYPE][\"id\"];\n  var toinsert = output_area.element.find(\".\" + CLASS_NAME.split(' ')[0]);\n  if (id !== undefined) {\n    var nchildren = toinsert.length;\n    var html_node = toinsert[nchildren-1].children[0];\n    html_node.innerHTML = output.data[HTML_MIME_TYPE];\n    var scripts = [];\n    var nodelist = html_node.querySelectorAll(\"script\");\n    for (var i in nodelist) {\n      if (nodelist.hasOwnProperty(i)) {\n        scripts.push(nodelist[i])\n      }\n    }\n\n    scripts.forEach( function (oldScript) {\n      var newScript = document.createElement(\"script\");\n      var attrs = [];\n      var nodemap = oldScript.attributes;\n      for (var j in nodemap) {\n        if (nodemap.hasOwnProperty(j)) {\n          attrs.push(nodemap[j])\n        }\n      }\n      attrs.forEach(function(attr) { newScript.setAttribute(attr.name, attr.value) });\n      newScript.appendChild(document.createTextNode(oldScript.innerHTML));\n      oldScript.parentNode.replaceChild(newScript, oldScript);\n    });\n    if (JS_MIME_TYPE in output.data) {\n      toinsert[nchildren-1].children[1].textContent = output.data[JS_MIME_TYPE];\n    }\n    output_area._hv_plot_id = id;\n    if ((window.Bokeh !== undefined) && (id in Bokeh.index)) {\n      window.PyViz.plot_index[id] = Bokeh.index[id];\n    } else {\n      window.PyViz.plot_index[id] = null;\n    }\n  } else if (output.metadata[EXEC_MIME_TYPE][\"server_id\"] !== undefined) {\n    var bk_div = document.createElement(\"div\");\n    bk_div.innerHTML = output.data[HTML_MIME_TYPE];\n    var script_attrs = bk_div.children[0].attributes;\n    for (var i = 0; i < script_attrs.length; i++) {\n      toinsert[toinsert.length - 1].childNodes[1].setAttribute(script_attrs[i].name, script_attrs[i].value);\n    }\n    // store reference to server id on output_area\n    output_area._bokeh_server_id = output.metadata[EXEC_MIME_TYPE][\"server_id\"];\n  }\n}\n\n/**\n * Handle when an output is cleared or removed\n */\nfunction handle_clear_output(event, handle) {\n  var id = handle.cell.output_area._hv_plot_id;\n  var server_id = handle.cell.output_area._bokeh_server_id;\n  if (((id === undefined) || !(id in PyViz.plot_index)) && (server_id !== undefined)) { return; }\n  var comm = window.PyViz.comm_manager.get_client_comm(\"hv-extension-comm\", \"hv-extension-comm\", function () {});\n  if (server_id !== null) {\n    comm.send({event_type: 'server_delete', 'id': server_id});\n    return;\n  } else if (comm !== null) {\n    comm.send({event_type: 'delete', 'id': id});\n  }\n  delete PyViz.plot_index[id];\n  if ((window.Bokeh !== undefined) & (id in window.Bokeh.index)) {\n    var doc = window.Bokeh.index[id].model.document\n    doc.clear();\n    const i = window.Bokeh.documents.indexOf(doc);\n    if (i > -1) {\n      window.Bokeh.documents.splice(i, 1);\n    }\n  }\n}\n\n/**\n * Handle kernel restart event\n */\nfunction handle_kernel_cleanup(event, handle) {\n  delete PyViz.comms[\"hv-extension-comm\"];\n  window.PyViz.plot_index = {}\n}\n\n/**\n * Handle update_display_data messages\n */\nfunction handle_update_output(event, handle) {\n  handle_clear_output(event, {cell: {output_area: handle.output_area}})\n  handle_add_output(event, handle)\n}\n\nfunction register_renderer(events, OutputArea) {\n  function append_mime(data, metadata, element) {\n    // create a DOM node to render to\n    var toinsert = this.create_output_subarea(\n    metadata,\n    CLASS_NAME,\n    EXEC_MIME_TYPE\n    );\n    this.keyboard_manager.register_events(toinsert);\n    // Render to node\n    var props = {data: data, metadata: metadata[EXEC_MIME_TYPE]};\n    render(props, toinsert[0]);\n    element.append(toinsert);\n    return toinsert\n  }\n\n  events.on('output_added.OutputArea', handle_add_output);\n  events.on('output_updated.OutputArea', handle_update_output);\n  events.on('clear_output.CodeCell', handle_clear_output);\n  events.on('delete.Cell', handle_clear_output);\n  events.on('kernel_ready.Kernel', handle_kernel_cleanup);\n\n  OutputArea.prototype.register_mime_type(EXEC_MIME_TYPE, append_mime, {\n    safe: true,\n    index: 0\n  });\n}\n\nif (window.Jupyter !== undefined) {\n  try {\n    var events = require('base/js/events');\n    var OutputArea = require('notebook/js/outputarea').OutputArea;\n    if (OutputArea.prototype.mime_types().indexOf(EXEC_MIME_TYPE) == -1) {\n      register_renderer(events, OutputArea);\n    }\n  } catch(err) {\n  }\n}\n",
      "application/vnd.holoviews_load.v0+json": ""
     },
     "metadata": {},
     "output_type": "display_data"
    },
    {
     "data": {
      "text/html": [
       "<style>*[data-root-id],\n",
       "*[data-root-id] > * {\n",
       "  box-sizing: border-box;\n",
       "  font-family: var(--jp-ui-font-family);\n",
       "  font-size: var(--jp-ui-font-size1);\n",
       "  color: var(--vscode-editor-foreground, var(--jp-ui-font-color1));\n",
       "}\n",
       "\n",
       "/* Override VSCode background color */\n",
       ".cell-output-ipywidget-background:has(\n",
       "    > .cell-output-ipywidget-background > .lm-Widget > *[data-root-id]\n",
       "  ),\n",
       ".cell-output-ipywidget-background:has(> .lm-Widget > *[data-root-id]) {\n",
       "  background-color: transparent !important;\n",
       "}\n",
       "</style>"
      ]
     },
     "metadata": {},
     "output_type": "display_data"
    }
   ],
   "source": [
    "import pandas as pd\n",
    "import geopandas as gpd\n",
    "import numpy as np\n",
    "import hvplot.pandas \n",
    "import altair as alt\n",
    "import matplotlib.pyplot as plt\n",
    "import rasterio as rio\n",
    "import osmnx as ox\n",
    "pd.options.display.max_columns = 999\n",
    "\n",
    "# Hide warnings due to issue in shapely package \n",
    "# See: https://github.com/shapely/shapely/issues/1345\n",
    "np.seterr(invalid=\"ignore\");"
   ]
  },
  {
   "cell_type": "code",
   "execution_count": 3,
   "id": "1b6c5206-3860-4dbe-aebc-5fa92ccf28d4",
   "metadata": {},
   "outputs": [],
   "source": [
    "import requests\n",
    "import time\n",
    "from bs4 import BeautifulSoup\n",
    "from random import sample \n",
    "import pandas as pd \n",
    "import os\n",
    "from selenium import webdriver\n",
    "from selenium.webdriver.chrome.options import Options\n",
    "from datetime import datetime\n",
    "import glob as gb \n",
    "from selenium_stealth import stealth"
   ]
  },
  {
   "cell_type": "code",
   "execution_count": 4,
   "id": "8aae475a-23a2-43fe-ab07-78d0f554bb21",
   "metadata": {
    "tags": []
   },
   "outputs": [],
   "source": [
    "path = r\"C:\\Users\\Owner\\Python,Remote,Cloud\\Pinnacore\"\n",
    "os.chdir(path)"
   ]
  },
  {
   "cell_type": "code",
   "execution_count": 5,
   "id": "af752e01-23c6-4b02-8fdb-95cdde4a41e6",
   "metadata": {
    "tags": []
   },
   "outputs": [
    {
     "data": {
      "text/plain": [
       "'RobloxSelenium_2024_Nov_23_10-55-29.csv'"
      ]
     },
     "execution_count": 5,
     "metadata": {},
     "output_type": "execute_result"
    }
   ],
   "source": [
    "finalfile = \"RobloxSelenium\" + \"_\" + \"{:%Y_%h_%d_%H-%M-%S}\".format(datetime.now()) +\".csv\"\n",
    "finalfile"
   ]
  },
  {
   "cell_type": "code",
   "execution_count": null,
   "id": "f73c15d2-6716-410e-9b70-27c8b7a7ac3d",
   "metadata": {
    "tags": []
   },
   "outputs": [
    {
     "name": "stdout",
     "output_type": "stream",
     "text": [
      "This is page: 1\n",
      "Urls:\n",
      "\n",
      "\t\thttps://www.roblox.com/catalog?Category=1&CurrencyType=3&pxMin=1&salesTypeFilter=1&SortType=2&SortAggregation=31_p/\n",
      "\n",
      "\t\thttps://www.roblox.com/catalog?Category=1&salesTypeFilter=1&SortType=1&SortAggregation=31_p/\n",
      "\n",
      "This is page: 2\n",
      "Urls:\n",
      "\n",
      "\t\thttps://www.roblox.com/catalog?Category=1&salesTypeFilter=1&SortType=1&SortAggregation=32_p/\n",
      "\n",
      "\t\thttps://www.roblox.com/catalog?Category=1&salesTypeFilter=1&SortType=1&SortAggregation=32_p/\n",
      "\n",
      "This is page: 3\n",
      "Urls:\n",
      "\n",
      "\t\thttps://www.roblox.com/catalog?Category=1&salesTypeFilter=1&SortType=1&SortAggregation=33_p/\n",
      "\n",
      "\t\thttps://www.roblox.com/catalog?Category=1&salesTypeFilter=1&SortType=1&SortAggregation=33_p/\n",
      "\n",
      "This is page: 4\n",
      "Urls:\n",
      "\n",
      "\t\thttps://www.roblox.com/catalog?Category=1&salesTypeFilter=1&SortType=1&SortAggregation=34_p/\n",
      "\n",
      "\t\thttps://www.roblox.com/catalog?Category=1&salesTypeFilter=1&SortType=1&SortAggregation=34_p/\n",
      "\n",
      "This is page: 5\n",
      "Urls:\n",
      "\n",
      "\t\thttps://www.roblox.com/catalog?Category=1&salesTypeFilter=1&SortType=1&SortAggregation=35_p/\n",
      "\n",
      "\t\thttps://www.roblox.com/catalog?Category=1&salesTypeFilter=1&SortType=1&SortAggregation=35_p/\n",
      "\n",
      "This is page: 6\n",
      "Urls:\n",
      "\n",
      "\t\thttps://www.roblox.com/catalog?Category=1&salesTypeFilter=1&SortType=1&SortAggregation=36_p/\n",
      "\n",
      "\t\thttps://www.roblox.com/catalog?Category=1&salesTypeFilter=1&SortType=1&SortAggregation=36_p/\n",
      "\n",
      "This is page: 7\n",
      "Urls:\n",
      "\n",
      "\t\thttps://www.roblox.com/catalog?Category=1&salesTypeFilter=1&SortType=1&SortAggregation=37_p/\n",
      "\n",
      "\t\thttps://www.roblox.com/catalog?Category=1&salesTypeFilter=1&SortType=1&SortAggregation=37_p/\n",
      "\n",
      "This is page: 8\n",
      "Urls:\n",
      "\n",
      "\t\thttps://www.roblox.com/catalog?Category=1&salesTypeFilter=1&SortType=1&SortAggregation=38_p/\n",
      "\n",
      "\t\thttps://www.roblox.com/catalog?Category=1&salesTypeFilter=1&SortType=1&SortAggregation=38_p/\n",
      "\n",
      "This is page: 9\n",
      "Urls:\n",
      "\n",
      "\t\thttps://www.roblox.com/catalog?Category=1&salesTypeFilter=1&SortType=1&SortAggregation=39_p/\n",
      "\n",
      "\t\thttps://www.roblox.com/catalog?Category=1&salesTypeFilter=1&SortType=1&SortAggregation=39_p/\n",
      "\n",
      "This is page: 10\n",
      "Urls:\n",
      "\n",
      "\t\thttps://www.roblox.com/catalog?Category=1&salesTypeFilter=1&SortType=1&SortAggregation=310_p/\n",
      "\n",
      "\t\thttps://www.roblox.com/catalog?Category=1&salesTypeFilter=1&SortType=1&SortAggregation=310_p/\n",
      "\n",
      "This is page: 11\n",
      "Urls:\n",
      "\n",
      "\t\thttps://www.roblox.com/catalog?Category=1&salesTypeFilter=1&SortType=1&SortAggregation=311_p/\n",
      "\n",
      "\t\thttps://www.roblox.com/catalog?Category=1&salesTypeFilter=1&SortType=1&SortAggregation=311_p/\n",
      "\n",
      "This is page: 12\n",
      "Urls:\n",
      "\n",
      "\t\thttps://www.roblox.com/catalog?Category=1&salesTypeFilter=1&SortType=1&SortAggregation=312_p/\n",
      "\n",
      "\t\thttps://www.roblox.com/catalog?Category=1&salesTypeFilter=1&SortType=1&SortAggregation=312_p/\n",
      "\n",
      "This is page: 13\n",
      "Urls:\n",
      "\n",
      "\t\thttps://www.roblox.com/catalog?Category=1&salesTypeFilter=1&SortType=1&SortAggregation=313_p/\n",
      "\n",
      "\t\thttps://www.roblox.com/catalog?Category=1&salesTypeFilter=1&SortType=1&SortAggregation=313_p/\n",
      "\n",
      "This is page: 14\n",
      "Urls:\n",
      "\n",
      "\t\thttps://www.roblox.com/catalog?Category=1&salesTypeFilter=1&SortType=1&SortAggregation=314_p/\n",
      "\n",
      "\t\thttps://www.roblox.com/catalog?Category=1&salesTypeFilter=1&SortType=1&SortAggregation=314_p/\n",
      "\n",
      "This is page: 15\n",
      "Urls:\n",
      "\n",
      "\t\thttps://www.roblox.com/catalog?Category=1&salesTypeFilter=1&SortType=1&SortAggregation=315_p/\n",
      "\n",
      "\t\thttps://www.roblox.com/catalog?Category=1&salesTypeFilter=1&SortType=1&SortAggregation=315_p/\n",
      "\n",
      "This is page: 16\n",
      "Urls:\n",
      "\n",
      "\t\thttps://www.roblox.com/catalog?Category=1&salesTypeFilter=1&SortType=1&SortAggregation=316_p/\n",
      "\n",
      "\t\thttps://www.roblox.com/catalog?Category=1&salesTypeFilter=1&SortType=1&SortAggregation=316_p/\n",
      "\n",
      "This is page: 17\n",
      "Urls:\n",
      "\n",
      "\t\thttps://www.roblox.com/catalog?Category=1&salesTypeFilter=1&SortType=1&SortAggregation=317_p/\n",
      "\n",
      "\t\thttps://www.roblox.com/catalog?Category=1&salesTypeFilter=1&SortType=1&SortAggregation=317_p/\n",
      "\n",
      "This is page: 18\n",
      "Urls:\n",
      "\n",
      "\t\thttps://www.roblox.com/catalog?Category=1&salesTypeFilter=1&SortType=1&SortAggregation=318_p/\n",
      "\n",
      "\t\thttps://www.roblox.com/catalog?Category=1&salesTypeFilter=1&SortType=1&SortAggregation=318_p/\n",
      "\n",
      "This is page: 19\n",
      "Urls:\n",
      "\n",
      "\t\thttps://www.roblox.com/catalog?Category=1&salesTypeFilter=1&SortType=1&SortAggregation=319_p/\n",
      "\n",
      "\t\thttps://www.roblox.com/catalog?Category=1&salesTypeFilter=1&SortType=1&SortAggregation=319_p/\n",
      "\n",
      "This is page: 20\n",
      "Urls:\n",
      "\n",
      "\t\thttps://www.roblox.com/catalog?Category=1&salesTypeFilter=1&SortType=1&SortAggregation=320_p/\n",
      "\n",
      "\t\thttps://www.roblox.com/catalog?Category=1&salesTypeFilter=1&SortType=1&SortAggregation=320_p/\n",
      "\n"
     ]
    },
    {
     "ename": "NameError",
     "evalue": "name 'Robloxo_csv' is not defined",
     "output_type": "error",
     "traceback": [
      "\u001b[1;31m---------------------------------------------------------------------------\u001b[0m",
      "\u001b[1;31mNameError\u001b[0m                                 Traceback (most recent call last)",
      "Cell \u001b[1;32mIn[6], line 141\u001b[0m\n\u001b[0;32m    138\u001b[0m     time\u001b[38;5;241m.\u001b[39msleep(\u001b[38;5;241m0.5\u001b[39m)\n\u001b[0;32m    140\u001b[0m Robloxdata \u001b[38;5;241m=\u001b[39m  pd\u001b[38;5;241m.\u001b[39mDataFrame(results)\n\u001b[1;32m--> 141\u001b[0m \u001b[43mRobloxo_csv\u001b[49m(finalfile, index \u001b[38;5;241m=\u001b[39m \u001b[38;5;28;01mFalse\u001b[39;00m)\n",
      "\u001b[1;31mNameError\u001b[0m: name 'Robloxo_csv' is not defined"
     ]
    }
   ],
   "source": [
    "\n",
    "page_count=10\n",
    "results = []\n",
    "\n",
    "roblox_placeholders = [\"This item found on Roblox marketplace\",\"Last check:\"]\n",
    "\n",
    "# selectors\n",
    "titleSelector = \"div.item-card-name\"\n",
    "descSelector = \"div.building-description\"\n",
    "linkSelector = \"div.item-card-name\"\n",
    "saleSelector = \"div.Text-c11n-8-84-3__sc-aiai24-0\"\n",
    "sale2Selector = \"p.Text-c11n-8-84-3__sc-aiai24-0\"\n",
    "nhoodSelector = \"h4.Text-c11n-8-84-3__sc-aiai24-0\"\n",
    "nhood2Selector = \"h2.styledComponents__BuildingCardTitle-sc-1bj2ydz-8\"\n",
    "\n",
    "driver = webdriver.Chrome()\n",
    "textDriver = webdriver.Chrome()\n",
    "\n",
    "stealth(driver,\n",
    "       languages=[\"en-US\", \"en\"],\n",
    "       vendor=\"Google Inc.\",\n",
    "       platform=\"Win32\",\n",
    "       webgl_vendor=\"Intel Inc.\",\n",
    "       renderer=\"Intel Iris OpenGL Engine\",\n",
    "       fix_hairline=True,\n",
    "       )\n",
    "\n",
    "stealth(textDriver,\n",
    "       languages=[\"en-US\", \"en\"],\n",
    "       vendor=\"Google Inc.\",\n",
    "       platform=\"Win32\",\n",
    "       webgl_vendor=\"Intel Inc.\",\n",
    "       renderer=\"Intel Iris OpenGL Engine\",\n",
    "       fix_hairline=True,\n",
    "       )\n",
    "\n",
    "url =\"https://www.roblox.com/catalog?Category=1&CurrencyType=3&pxMin=1&salesTypeFilter=1&SortType=2&SortAggregation=3\"\n",
    "\n",
    "url2 = \"https://www.roblox.com/catalog?Category=1&salesTypeFilter=1&SortType=1&SortAggregation=3\"\n",
    "\n",
    "# Inspect the Roblox website and figure out the number pages for rental ads use\n",
    "# In the charlotte example, there are a total of 20 pages so I set the range at 21\n",
    "\n",
    "for page in range(1,page_count+1,1):\n",
    "    \n",
    "    print(\"This is page: \" + str(page))\n",
    "    \n",
    "    #Identify the Roblox URL of your City, it should follow this format:\n",
    "    # 1. Default Roblox url : https://www.Roblox.com/\n",
    "    # 2. Name of your City: eg. charlotte-nc, atlanta-ga\n",
    "    # 3. Pass the page number \n",
    "    # 4. Add the \"_p\" that is a default thing with the Roblox website \n",
    "    # 5. In a sample URL on page 15 for example will be like: https://www.Roblox.com/charlotte-nc/rentals/15_p/\n",
    "\n",
    "    page = str(page) + '_p/'\n",
    "    \n",
    "    # Here we are going to utilize the selenium. To automate the interaction behavior of a web browser you would\n",
    "    # need a web driver. Each browser has a webdriver, in my case I am using google chrome so I download the web driver\n",
    "    # from this website \"https://chromedriver.storage.googleapis.com/index.html?path=98.0.4758.80/\" \n",
    "    \n",
    "    # After downloading and extracting the web drive(chromdriver.exe) you use the webdrive.Chrome() method to initiate\n",
    "    # the chrome browser and pass the path where the driver is saved.\n",
    "    \n",
    "    \n",
    "    # CraiglistBrowser.maximize_window()\n",
    "\n",
    "    # After the browser has been launched use the get() to pass the url \n",
    "    print(f\"Urls:\\n\")\n",
    "    page_links = []\n",
    "    for url in [url,url2]: # getListingType():\n",
    "        print(f\"\\t\\t{url+page}\\n\")\n",
    "        browser = driver.get(url+page)\n",
    "        html = driver.execute_script(\"return document.documentElement.outerHTML\")\n",
    "        soup = BeautifulSoup(html, 'html.parser')\n",
    "\n",
    "        for item in soup.select(linkSelector):\n",
    "            l = item.select(\"a\")[0].attrs[\"href\"]\n",
    "            if not(l.startswith(\"https://\")):\n",
    "                l = \"https://www.roblox.com\"+l\n",
    "            page_links.append(l)\n",
    "\n",
    "    for link in page_links:\n",
    "        ovPage = textDriver.get(link)\n",
    "        textSoup = BeautifulSoup(textDriver.page_source,\"html.parser\")\n",
    "\n",
    "        if len(textSoup.select(\"div.px-captcha-container\")) > 0:\n",
    "            time.sleep(0.3)\n",
    "            continue\n",
    "        else:\n",
    "        \n",
    "            title = textSoup.select(titleSelector)[0].text\n",
    "            nh1 = textSoup.select(nhoodSelector)\n",
    "            nh2 = textSoup.select(nhood2Selector)\n",
    "            nhood = None\n",
    "\n",
    "            # get neighborhood from among header tags\n",
    "            if len(nh1) > 0:\n",
    "                for blurb in nh1:\n",
    "                    if \"neighborhood:\" in blurb.text.lower():\n",
    "                        nhood = blurb.text.split(\":\")[1][1:]\n",
    "                        # print(blurb.text.split(\":\")[1][1:])\n",
    "                        break\n",
    "            elif (len(nh2) > 0 and type(nhood) == type(None)):\n",
    "                for blurb in nh2:\n",
    "                    if \"neighborhood:\" in blurb.text.lower():\n",
    "                        nhood = blurb.text.split(\":\")[1][1:]\n",
    "                        # print(blurb.text.split(\":\")[1][1:])\n",
    "                        break\n",
    "\n",
    "            # getting address from title\n",
    "            address = None\n",
    "            for w in range(len(title)):\n",
    "                if title[w].isnumeric():\n",
    "                    address = title[w:]\n",
    "                    break\n",
    "\n",
    "            if len(textSoup.select(descSelector))>0 and len(textSoup.select(descSelector)[0].text)>70 and (not(any(holder in textSoup.select(descSelector)[0].text for holder in Roblox_placeholders))):\n",
    "                text = textSoup.select(descSelector)[0].text\n",
    "            elif len(textSoup.select(sale2Selector)[0]) and len(textSoup.select(sale2Selector)[0].text)>70 and (not(any(holder in textSoup.select(sale2Selector)[0].text for holder in Roblox_placeholders))):\n",
    "                text= textSoup.select(sale2Selector)[0].text\n",
    "            elif len(textSoup.select(saleSelector)[0])>0 and len(textSoup.select(saleSelector)[0].text)>70 and (not(any(holder in textSoup.select(saleSelector)[0].text for holder in Roblox_placeholders))):\n",
    "                text= textSoup.select(saleSelector)[0].text\n",
    "            else:\n",
    "                text=\"\"\n",
    "\n",
    "            results.append({\n",
    "            \"title\": title,\n",
    "            \"address\": address,\n",
    "            \"neighborhood\": nhood,\n",
    "            \"description\": text,\n",
    "            \"url\": link\n",
    "            })\n",
    "            print(f\"title: {title}\\t\\taddress: {address}\\t\\tneighborhood: {nhood}\\nlink: {link}\\n\\tdescription: {text}\")\n",
    "\n",
    "            time.sleep(0.3)\n",
    "           \n",
    "\n",
    "\n",
    "    time.sleep(0.5)\n",
    "# I am going to kill myself\n",
    "Robloxdata =  pd.DataFrame(results)\n",
    "Roblox_csv(finalfile, index = False)"
   ]
  },
  {
   "cell_type": "code",
   "execution_count": null,
   "id": "20e6eb0d-24bc-4b4c-84da-416836bc543e",
   "metadata": {
    "tags": []
   },
   "outputs": [
    {
     "data": {
      "text/plain": [
       "[]"
      ]
     },
     "execution_count": 7,
     "metadata": {},
     "output_type": "execute_result"
    }
   ],
   "source": [
    "All = gb.glob(path + \"/*.csv\")\n",
    "All"
   ]
  },
  {
   "cell_type": "code",
   "execution_count": null,
   "id": "a4fdfcce-e646-4db0-a598-980cbe134e5c",
   "metadata": {
    "tags": []
   },
   "outputs": [
    {
     "name": "stderr",
     "output_type": "stream",
     "text": [
      "C:\\Users\\Owner\\miniforge3\\envs\\musa-550-fall-2023\\lib\\site-packages\\IPython\\core\\interactiveshell.py:3508: UserWarning: There are no data in C:\\Users\\Owner\\Python,Remote,Cloud\\Pinnacore, try using 'Webscraping Zillow Data.ipynb'.\n",
      "  exec(code_obj, self.user_global_ns, self.user_ns)\n"
     ]
    },
    {
     "ename": "NameError",
     "evalue": "name 'FinalZillow' is not defined",
     "output_type": "error",
     "traceback": [
      "\u001b[1;31m---------------------------------------------------------------------------\u001b[0m",
      "\u001b[1;31mNameError\u001b[0m                                 Traceback (most recent call last)",
      "Cell \u001b[1;32mIn[10], line 8\u001b[0m\n\u001b[0;32m      5\u001b[0m     \u001b[38;5;28;01mimport\u001b[39;00m \u001b[38;5;21;01mwarnings\u001b[39;00m\n\u001b[0;32m      6\u001b[0m     warnings\u001b[38;5;241m.\u001b[39mwarn(\u001b[38;5;124mf\u001b[39m\u001b[38;5;124m\"\u001b[39m\u001b[38;5;124mThere are no data in \u001b[39m\u001b[38;5;132;01m{\u001b[39;00mpath\u001b[38;5;132;01m}\u001b[39;00m\u001b[38;5;124m, try using \u001b[39m\u001b[38;5;124m'\u001b[39m\u001b[38;5;124mWebscraping Zillow Data.ipynb\u001b[39m\u001b[38;5;124m'\u001b[39m\u001b[38;5;124m.\u001b[39m\u001b[38;5;124m\"\u001b[39m,\u001b[38;5;167;01mUserWarning\u001b[39;00m,stacklevel\u001b[38;5;241m=\u001b[39m\u001b[38;5;241m2\u001b[39m)\n\u001b[1;32m----> 8\u001b[0m FinalUnique \u001b[38;5;241m=\u001b[39m \u001b[43mFinalZillow\u001b[49m\u001b[38;5;241m.\u001b[39mdrop_duplicates()\n",
      "\u001b[1;31mNameError\u001b[0m: name 'FinalZillow' is not defined"
     ]
    }
   ],
   "source": [
    "if len(All)>0:\n",
    "    Roblox = (pd.read_csv(file) for file in All)  \n",
    "    FinalRoblox  = pd.concat(Roblox, ignore_index=True)\n",
    "else:\n",
    "    import warnings\n",
    "    warnings.warn(f\"There are no data in {path}, try using 'Webscraping Roblox Data.ipynb'.\",UserWarning,stacklevel=2)\n",
    "\n",
    "FinalUnique = FinalRoblox.drop_duplicates()"
   ]
  },
  {
   "cell_type": "code",
   "execution_count": null,
   "id": "763ad8d3-a9aa-4a8b-9193-aa8ea41837be",
   "metadata": {
    "tags": []
   },
   "outputs": [
    {
     "ename": "FileNotFoundError",
     "evalue": "[WinError 2] The system cannot find the file specified: 'C:\\\\Users\\\\Owner\\\\Python,Remote,Cloud\\\\Pinnacore/clean'",
     "output_type": "error",
     "traceback": [
      "\u001b[1;31m---------------------------------------------------------------------------\u001b[0m",
      "\u001b[1;31mFileNotFoundError\u001b[0m                         Traceback (most recent call last)",
      "Cell \u001b[1;32mIn[11], line 2\u001b[0m\n\u001b[0;32m      1\u001b[0m outPath \u001b[38;5;241m=\u001b[39m path\u001b[38;5;241m+\u001b[39m\u001b[38;5;124m\"\u001b[39m\u001b[38;5;124m/clean\u001b[39m\u001b[38;5;124m\"\u001b[39m\n\u001b[1;32m----> 2\u001b[0m \u001b[43mos\u001b[49m\u001b[38;5;241;43m.\u001b[39;49m\u001b[43mchdir\u001b[49m\u001b[43m(\u001b[49m\u001b[43moutPath\u001b[49m\u001b[43m)\u001b[49m\n\u001b[0;32m      3\u001b[0m \u001b[38;5;66;03m# if os.path.exists(\"ZillowUnique.csv\"):\u001b[39;00m\n\u001b[0;32m      4\u001b[0m \u001b[38;5;66;03m#     os.remove((\"ZillowUnique.csv\"))\u001b[39;00m\n\u001b[0;32m      5\u001b[0m FinalUnique\u001b[38;5;241m.\u001b[39mto_csv(\u001b[38;5;124m\"\u001b[39m\u001b[38;5;124mRobloxUnique.csv\u001b[39m\u001b[38;5;124m\"\u001b[39m, index\u001b[38;5;241m=\u001b[39m\u001b[38;5;28;01mFalse\u001b[39;00m,)\n",
      "\u001b[1;31mFileNotFoundError\u001b[0m: [WinError 2] The system cannot find the file specified: 'C:\\\\Users\\\\Owner\\\\Python,Remote,Cloud\\\\Pinnacore/clean'"
     ]
    }
   ],
   "source": [
    "outPath = path+\"/clean\"\n",
    "os.chdir(outPath)\n",
    "# if os.path.exists(\"ZillowUnique.csv\"):\n",
    "#     os.remove((\"ZillowUnique.csv\"))\n",
    "FinalUnique.to_csv(\"RobloxUnique.csv\", index=False,)\n",
    "(print(\"compilation complete\"))\n",
    "os.chdir(\"../\"+path)"
   ]
  },
  {
   "cell_type": "code",
   "execution_count": null,
   "id": "d14233ec-b80c-482d-950a-a4472720834f",
   "metadata": {},
   "outputs": [],
   "source": [
    "import requests\n",
    "from bs4 import BeautifulSoup\n",
    "\n",
    "# Send request to the URL\n",
    "url = \"https://www.roblox.com/catalog?Category=1&CurrencyType=3&pxMin=1&salesTypeFilter=1&SortType=2&SortAggregation=3\"\n",
    "response = requests.get(url)\n",
    "\n",
    "# Parse HTML\n",
    "soup = BeautifulSoup(response.content, 'html.parser')\n",
    "\n",
    "# Find all elements with class 'item-card-name'\n",
    "items = soup.find_all(class_='item-card-link')\n",
    "\n",
    "# Extract and print titles\n",
    "with open('roblox_items.txt', 'w', encoding='utf-8') as file:\n",
    "    # Find and write each item name to the file\n",
    "    items = soup.find_all(class_='item-card-name')\n",
    "    for item in items:\n",
    "        file.write(item.text + '\\n')"
   ]
  },
  {
   "cell_type": "code",
   "execution_count": null,
   "id": "b1a85d9a-0f9e-4cbc-b845-b33c6b72e10e",
   "metadata": {
    "tags": []
   },
   "outputs": [
    {
     "data": {
      "text/plain": [
       "[]"
      ]
     },
     "execution_count": 18,
     "metadata": {},
     "output_type": "execute_result"
    }
   ],
   "source": [
    "items"
   ]
  },
  {
   "cell_type": "code",
   "execution_count": null,
   "id": "1b82c649-dfca-42dc-a773-8b6b30cb68c4",
   "metadata": {},
   "outputs": [],
   "source": []
  },
  {
   "cell_type": "code",
   "execution_count": null,
   "id": "9737ca3b",
   "metadata": {},
   "outputs": [],
   "source": []
  }
 ],
 "metadata": {
  "kernelspec": {
   "display_name": "Python 3",
   "language": "python",
   "name": "python3"
  },
  "language_info": {
   "codemirror_mode": {
    "name": "ipython",
    "version": 3
   },
   "file_extension": ".py",
   "mimetype": "text/x-python",
   "name": "python",
   "nbconvert_exporter": "python",
   "pygments_lexer": "ipython3",
   "version": "3.10.12"
  }
 },
 "nbformat": 4,
 "nbformat_minor": 5
}
